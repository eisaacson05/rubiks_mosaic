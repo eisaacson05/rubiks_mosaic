{
 "cells": [
  {
   "cell_type": "markdown",
   "id": "e17e5abb",
   "metadata": {},
   "source": [
    "### Basic BFS"
   ]
  },
  {
   "cell_type": "code",
   "execution_count": 4,
   "id": "5d8fb6af",
   "metadata": {},
   "outputs": [
    {
     "name": "stdout",
     "output_type": "stream",
     "text": [
      "Following is the Breadth-First Search\n",
      "answer: fwee\n"
     ]
    }
   ],
   "source": [
    "from rubik.cube import Cube\n",
    "import copy\n",
    "import random\n",
    "\n",
    "cube_to_str= lambda c: ''.join(c._color_list())\n",
    "\n",
    "MOVE_SET=['L', 'Li', 'R', 'Ri', 'U', 'Ui', 'D', 'Di', 'F', 'Fi', 'B', 'Bi', 'M', 'Mi', 'E', 'Ei', 'S', 'Si', 'X', 'Xi', 'Y', 'Yi', 'Z', 'Zi']\n",
    "\n",
    "\n",
    "def do_move(c, move):\n",
    "    # make copy since moves are mutable transformations\n",
    "    _c=copy.copy(c)\n",
    "    # Do move. EG: c.L()\n",
    "    getattr(_c, move)()\n",
    "\n",
    "    return cube_to_str(_c)\n",
    "\n",
    "\n",
    "def adjacent_states(s):\n",
    "    c=Cube(s)\n",
    "    adj=[]\n",
    "    for move in MOVE_SET:\n",
    "        # make copy since moves are mutable transformations\n",
    "        _c=copy.copy(c)\n",
    "        # Do move. EG: c.L()\n",
    "        getattr(_c, move)()\n",
    "        # TODO: maybe not add if already explored?\n",
    "        adj.append(cube_to_str(_c))\n",
    "\n",
    "    return adj\n",
    "\n",
    "def random_walk(c, ntimes=100):\n",
    "    path=[]\n",
    "    for _ in range(ntimes):\n",
    "        move=random.choice(MOVE_SET)\n",
    "        path.append(move)\n",
    "        getattr(c, move)()\n",
    "    return path\n",
    "        \n",
    "START_STATE=\"OOOOOOOOOYYYWWWGGGBBBYYYWWWGGGBBBYYYWWWGGGBBBRRRRRRRRR\"\n",
    "\n",
    "# GENERATE RANDOM GOAL STATE\n",
    "#\n",
    "random_c=Cube(START_STATE)\n",
    "solution_path=random_walk(random_c, ntimes=2)\n",
    "GOAL_STATE=START_STATE#cube_to_str(random_c)\n",
    "\n",
    "# DO DFS\n",
    "visited = set() # List for visited nodes.\n",
    "queue = []      # Initialize a queue\n",
    "\n",
    "\n",
    "def bfs(visited, node): #function for BFS\n",
    "    visited.add(node)\n",
    "    queue.append(node)\n",
    "    next_moves=['NoOp']\n",
    "    solution=[]\n",
    "    \n",
    "    while queue:          # Creating loop to visit each node\n",
    "        node = queue.pop(0)\n",
    "                \n",
    "        if node==GOAL_STATE: return \"fwee\"\n",
    "        \n",
    "        for move in MOVE_SET:\n",
    "            neighbour=do_move(node, move)\n",
    "            if neighbour not in visited:\n",
    "                visited.add(neighbour)\n",
    "                queue.append(neighbour)\n",
    "\n",
    "# Driver Code\n",
    "print(\"Following is the Breadth-First Search\")\n",
    "moves=bfs(visited, START_STATE)\n",
    "print(\"answer: \",end=\"\")    # function calling\n",
    "print(moves)"
   ]
  },
  {
   "cell_type": "markdown",
   "id": "eddc72a7",
   "metadata": {},
   "source": [
    "### Basic DFS"
   ]
  },
  {
   "cell_type": "code",
   "execution_count": 75,
   "id": "af808e58",
   "metadata": {},
   "outputs": [],
   "source": [
    "# def do_move(node, move):\n",
    "#     # make copy since moves are mutable transformations\n",
    "#     c=Cube(node)\n",
    "#     # Do move. EG: c.L()\n",
    "#     getattr(c, move)()\n",
    "\n",
    "#     return cube_to_str(c)\n",
    "\n",
    "# # GENERATE RANDOM GOAL STATE\n",
    "# #\n",
    "# random_c=Cube(START_STATE)\n",
    "# solution_path=random_walk(random_c, ntimes=2)\n",
    "# GOAL_STATE=START_STATE#cube_to_str(random_c)\n",
    "\n",
    "# visited = set() # Set to keep track of visited nodes of graph.\n",
    "\n",
    "# def dfs(visited, node):  #function for dfs \n",
    "#     if node not in visited:\n",
    "#         # print (node)\n",
    "#         visited.add(node)\n",
    "#         for move in MOVE_SET:\n",
    "#             neighbour=do_move(node, move)            \n",
    "#             dfs(visited, neighbour)\n",
    "\n",
    "# # Driver Code\n",
    "# print(\"Following is the Depth-First Search\")\n",
    "# moves=dfs(visited, START_STATE)\n",
    "# print(\"answer: \",end=\"\")    # function calling\n",
    "# print(moves)"
   ]
  },
  {
   "cell_type": "markdown",
   "id": "454f660f",
   "metadata": {},
   "source": [
    "### Basic DLS"
   ]
  },
  {
   "cell_type": "code",
   "execution_count": 71,
   "id": "4608c6f0",
   "metadata": {},
   "outputs": [
    {
     "name": "stdout",
     "output_type": "stream",
     "text": [
      "Target: BBBGOYGOYYBBOYRWWGRRROYRWWOGGGRBBOYRWWYOOOGBBGGWRRWYYW\n",
      "Following is the Depth-Limited Search\n",
      "No Solution Found\n"
     ]
    }
   ],
   "source": [
    "def do_move(node, move):\n",
    "    # make copy since moves are mutable transformations\n",
    "    c=Cube(node)\n",
    "    # Do move. EG: c.L()\n",
    "    getattr(c, move)()\n",
    "\n",
    "    return cube_to_str(c)\n",
    "\n",
    "\n",
    "# GENERATE RANDOM GOAL STATE\n",
    "#\n",
    "random_c=Cube(START_STATE)\n",
    "solution_path=random_walk(random_c, ntimes=4)\n",
    "GOAL_STATE=cube_to_str(random_c)\n",
    "\n",
    "print(\"Target: {goal}\".format(goal=GOAL_STATE))\n",
    "\n",
    "MAX_DEPTH=3\n",
    "\n",
    "limit_2_depth=lambda limit: MAX_DEPTH - limit\n",
    "\n",
    "def dls(node, limit):  #function for dfs \n",
    "    \n",
    "    #print(\"depth - {depth}\".format(depth=limit_2_depth(limit)))\n",
    "    \n",
    "    if node == GOAL_STATE:\n",
    "        print(\"\\tFound Target State: {goal}\".format(goal=node))\n",
    "        return True\n",
    "        \n",
    "    if limit <= 0:\n",
    "        return False\n",
    "        \n",
    "    #if node not in visited:\n",
    "    for move in MOVE_SET:\n",
    "        neighbour=do_move(node, move)            \n",
    "        if dls(neighbour, limit-1):\n",
    "            return True\n",
    "          \n",
    "    return False\n",
    "\n",
    "# Driver Code\n",
    "print(\"Following is the Depth-Limited Search\")\n",
    "if not dls(START_STATE, MAX_DEPTH):\n",
    "    print('No Solution Found')\n",
    "    "
   ]
  },
  {
   "cell_type": "markdown",
   "id": "91e3a16b",
   "metadata": {},
   "source": [
    "### Depth Limited, Print Solution"
   ]
  },
  {
   "cell_type": "code",
   "execution_count": 92,
   "id": "5652d77a",
   "metadata": {},
   "outputs": [
    {
     "name": "stdout",
     "output_type": "stream",
     "text": [
      "Target: OOOYYYOOOYRYWWWGOGBBBYRYWWWGOGBBBYRYWWWGOGBBBRRRGGGRRR\n",
      "Following is the Depth-Limited Search\n",
      "\tFound Target State: OOOYYYOOOYRYWWWGOGBBBYRYWWWGOGBBBYRYWWWGOGBBBRRRGGGRRR at moveset ('L', 'Li', 'S')\n"
     ]
    }
   ],
   "source": [
    "MAX_DEPTH=3\n",
    "\n",
    "# GENERATE RANDOM STATE\n",
    "#\n",
    "random_c=Cube(START_STATE)\n",
    "solution_path=random_walk(random_c, ntimes=3)\n",
    "random_state=cube_to_str(random_c)\n",
    "\n",
    "# GENERATE WORST POSSIBLE STATE\n",
    "#\n",
    "# worst_move=MOVE_SET[-1]\n",
    "# print(worst_move)\n",
    "# worst_c=Cube(START_STATE)\n",
    "# for _ in range(MAX_DEPTH):\n",
    "#     getattr(worst_c, worst_move)()\n",
    "# worst_state=cube_to_str(worst_c)\n",
    "\n",
    "# ASSIGN GOAL\n",
    "#\n",
    "GOAL_STATE=random_state\n",
    "print(\"Target: {goal}\".format(goal=GOAL_STATE))\n",
    "\n",
    "def dls(node, path, limit, debug=False):  #function for dfs \n",
    "    \n",
    "    if debug: print(\"depth - {depth} - {path}\".format(depth=limit_2_depth(limit), path=path))\n",
    "    \n",
    "    if node == GOAL_STATE:\n",
    "        print(\"\\tFound Target State: {goal} at moveset {path}\".format(goal=node, path=path))\n",
    "        return True\n",
    "        \n",
    "    if limit <= 0:\n",
    "        return False\n",
    "        \n",
    "    #if node not in visited:\n",
    "    for move in MOVE_SET:\n",
    "        neighbour=do_move(node, move)            \n",
    "        if dls(neighbour, path+(move,), limit-1):\n",
    "            return True\n",
    "          \n",
    "    return False\n",
    "\n",
    "# Driver Code\n",
    "print(\"Following is the Depth-Limited Search\")\n",
    "if not dls(START_STATE, tuple(), MAX_DEPTH):\n",
    "    print('No Solution Found')\n",
    "    "
   ]
  },
  {
   "cell_type": "markdown",
   "id": "27326dea",
   "metadata": {},
   "source": [
    "### IDDFS with solution path"
   ]
  },
  {
   "cell_type": "code",
   "execution_count": 98,
   "id": "4f2004b4",
   "metadata": {},
   "outputs": [
    {
     "name": "stdout",
     "output_type": "stream",
     "text": [
      "Start: OOOOOOOOOYYYWWWGGGBBBYYYWWWGGGBBBYYYWWWGGGBBBRRRRRRRRR\n",
      "Target: WWWYOYWWWYBYRRRGWGOOOOBOYYYRWRGGGYBYRRRGWGOOOBBBGRGBBB\n",
      "IDDFS Search:\n",
      "\tExec Depth of 1\n",
      "\tNo Solution at Depth of 1\n",
      "\tExec Depth of 2\n",
      "\tNo Solution at Depth of 2\n",
      "\tExec Depth of 3\n",
      "\tFound Target State: WWWYOYWWWYBYRRRGWGOOOOBOYYYRWRGGGYBYRRRGWGOOOBBBGRGBBB at moveset ('Si', 'E', 'X')\n"
     ]
    }
   ],
   "source": [
    "MAX_DEPTH=3\n",
    "\n",
    "# GENERATE RANDOM GOAL STATE\n",
    "#\n",
    "random_c=Cube(START_STATE)\n",
    "solution_path=random_walk(random_c, ntimes=3)\n",
    "GOAL_STATE=cube_to_str(random_c)\n",
    "\n",
    "print(\"Start: {start}\".format(start=START_STATE))\n",
    "print(\"Target: {goal}\".format(goal=GOAL_STATE))\n",
    "\n",
    "def iddfs(node, max_depth): \n",
    "    for depth in range(1, max_depth+1):\n",
    "        print(\"\\tExec Depth of {depth}\".format(depth=depth))\n",
    "        if not dls(START_STATE, tuple(), depth):\n",
    "            print(\"\\tNo Solution at Depth of {depth}\".format(depth=depth))\n",
    "        else:\n",
    "            return\n",
    "    print('No Solution Found at All')\n",
    "    \n",
    "    return False\n",
    "\n",
    "# Driver Code\n",
    "print(\"IDDFS Search:\")\n",
    "iddfs(START_STATE, MAX_DEPTH)"
   ]
  },
  {
   "cell_type": "code",
   "execution_count": 100,
   "id": "c9213cf6",
   "metadata": {},
   "outputs": [
    {
     "name": "stdout",
     "output_type": "stream",
     "text": [
      "YOOWOOWOOBYYRYYWWWGGOBYYRWWGGGBBOBBOBYYRWWGGGGBBRRRRRR\n"
     ]
    }
   ],
   "source": [
    "# Test\n",
    "c=Cube(START_STATE)\n",
    "c.Ui()\n",
    "c.Li()\n",
    "c.D()\n",
    "print(cube_to_str(c))"
   ]
  }
 ],
 "metadata": {
  "kernelspec": {
   "display_name": "Python 3 (ipykernel)",
   "language": "python",
   "name": "python3"
  },
  "language_info": {
   "codemirror_mode": {
    "name": "ipython",
    "version": 3
   },
   "file_extension": ".py",
   "mimetype": "text/x-python",
   "name": "python",
   "nbconvert_exporter": "python",
   "pygments_lexer": "ipython3",
   "version": "3.9.10"
  }
 },
 "nbformat": 4,
 "nbformat_minor": 5
}
